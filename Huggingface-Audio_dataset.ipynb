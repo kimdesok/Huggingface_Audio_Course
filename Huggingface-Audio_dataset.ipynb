{
 "cells": [
  {
   "cell_type": "code",
   "execution_count": 43,
   "id": "88e1f380-8392-4229-92c2-1901c7cb29d0",
   "metadata": {},
   "outputs": [],
   "source": [
    "from datasets import load_dataset"
   ]
  },
  {
   "cell_type": "code",
   "execution_count": 81,
   "id": "a22f1e95-1c4b-4937-9d92-cd8899c5f311",
   "metadata": {},
   "outputs": [
    {
     "name": "stdout",
     "output_type": "stream",
     "text": [
      "3.45.0\n"
     ]
    }
   ],
   "source": [
    "import gradio as gr\n",
    "print(gr.__version__)"
   ]
  },
  {
   "cell_type": "code",
   "execution_count": 97,
   "id": "87a6f9af-0358-4b0c-a647-699444320597",
   "metadata": {},
   "outputs": [
    {
     "name": "stdout",
     "output_type": "stream",
     "text": [
      "<class 'datasets.features.features.ClassLabel'>\n",
      "/storage/hf-datasets-cache/all/datasets/90720017063314-config-parquet-and-info-PolyAI-minds14-0f8c9bcc/downloads/extracted/73ab7f9ade76d3035add3081ab277e5bae46f3dbe75008135fea9e528746677a/ko-KR~ATM_LIMIT/602bef265f67b421554f65e7.wav\n",
      "app Manager 하고 싶은데 최대 금액이 얼마인지요\n",
      "3\n"
     ]
    }
   ],
   "source": [
    "minds = load_dataset(\"PolyAI/minds14\", name=\"ko-KR\", split=\"train\")\n",
    "\n",
    "example = minds[0]\n",
    "\n",
    "print(type(minds.features[\"intent_class\"]))\n",
    "print(example['path']) \n",
    "print(example['transcription'])\n",
    "print(example['intent_class'])"
   ]
  },
  {
   "cell_type": "code",
   "execution_count": 84,
   "id": "2313c74c-1f2e-4178-bda7-785738b66013",
   "metadata": {},
   "outputs": [
    {
     "name": "stdout",
     "output_type": "stream",
     "text": [
      "/home/ubuntu/.cache/huggingface/datasets/PolyAI___minds14/ko-KR/1.0.0/3a0bb29c446edbb0c461b27706cee1f3862191b8\n"
     ]
    }
   ],
   "source": [
    "from datasets import load_dataset_builder\n",
    "dataset_builder = load_dataset_builder(\"PolyAI/minds14\", name=\"ko-KR\")\n",
    "print(dataset_builder.cache_dir)"
   ]
  },
  {
   "cell_type": "code",
   "execution_count": 85,
   "id": "4c8d342f-4a46-4557-b917-4a2c12c98d53",
   "metadata": {},
   "outputs": [
    {
     "data": {
      "text/plain": [
       "'atm_limit'"
      ]
     },
     "execution_count": 85,
     "metadata": {},
     "output_type": "execute_result"
    }
   ],
   "source": [
    "id2label = minds.features[\"intent_class\"].int2str\n",
    "id2label(example[\"intent_class\"])"
   ]
  },
  {
   "cell_type": "code",
   "execution_count": 86,
   "id": "693c7360-1e50-4b27-8ec9-65e723732dc9",
   "metadata": {},
   "outputs": [
    {
     "data": {
      "text/plain": [
       "Dataset({\n",
       "    features: ['path', 'audio', 'transcription', 'english_transcription', 'intent_class', 'lang_id'],\n",
       "    num_rows: 592\n",
       "})"
      ]
     },
     "execution_count": 86,
     "metadata": {},
     "output_type": "execute_result"
    }
   ],
   "source": [
    "#columns_to_remove = [\"lang_id\", \"english_transcription\"]\n",
    "#minds = minds.remove_columns(columns_to_remove)\n",
    "minds"
   ]
  },
  {
   "cell_type": "code",
   "execution_count": 87,
   "id": "9de49a75-5936-49e6-b709-00ece8bcc675",
   "metadata": {},
   "outputs": [
    {
     "data": {
      "text/plain": [
       "Dataset({\n",
       "    features: ['path', 'audio', 'transcription', 'intent_class'],\n",
       "    num_rows: 592\n",
       "})"
      ]
     },
     "execution_count": 87,
     "metadata": {},
     "output_type": "execute_result"
    }
   ],
   "source": [
    "columns_to_remove = [\"lang_id\", \"english_transcription\"]\n",
    "minds = minds.remove_columns(columns_to_remove)\n",
    "minds"
   ]
  },
  {
   "cell_type": "code",
   "execution_count": 7,
   "id": "6fe2ff6f-426f-4d13-bcfa-9a394815c0a6",
   "metadata": {},
   "outputs": [],
   "source": [
    "#!chmod +x /usr/local/lib/python3.8/dist-packages/gradio/frpc_linux_amd64_v0.2"
   ]
  },
  {
   "cell_type": "code",
   "execution_count": 26,
   "id": "f25fd7de-a673-44e6-b59f-3b7b73a61ea9",
   "metadata": {},
   "outputs": [
    {
     "name": "stderr",
     "output_type": "stream",
     "text": [
      "/usr/local/lib/python3.10/dist-packages/gradio/processing_utils.py:183: UserWarning: Trying to convert audio automatically from float64 to 16-bit int format.\n",
      "  warnings.warn(warning.format(data.dtype))\n"
     ]
    },
    {
     "name": "stdout",
     "output_type": "stream",
     "text": [
      "Running on local URL:  http://127.0.0.1:7860\n",
      "Running on public URL: https://49660f374ccc4be090.gradio.live\n",
      "\n",
      "This share link expires in 72 hours. For free permanent hosting and GPU upgrades, run `gradio deploy` from Terminal to deploy to Spaces (https://huggingface.co/spaces)\n"
     ]
    },
    {
     "data": {
      "text/html": [
       "<div><iframe src=\"https://49660f374ccc4be090.gradio.live\" width=\"100%\" height=\"500\" allow=\"autoplay; camera; microphone; clipboard-read; clipboard-write;\" frameborder=\"0\" allowfullscreen></iframe></div>"
      ],
      "text/plain": [
       "<IPython.core.display.HTML object>"
      ]
     },
     "metadata": {},
     "output_type": "display_data"
    },
    {
     "name": "stdout",
     "output_type": "stream",
     "text": [
      "Keyboard interruption in main thread... closing server.\n",
      "Killing tunnel 127.0.0.1:7860 <> https://49660f374ccc4be090.gradio.live\n"
     ]
    },
    {
     "data": {
      "text/plain": []
     },
     "execution_count": 26,
     "metadata": {},
     "output_type": "execute_result"
    }
   ],
   "source": [
    "import gradio as gr\n",
    "\n",
    "def generate_audio():\n",
    "    example = minds.shuffle()[0]\n",
    "    audio = example[\"audio\"]\n",
    "    return (\n",
    "        audio[\"sampling_rate\"],\n",
    "        audio[\"array\"],\n",
    "    ), id2label(example[\"intent_class\"]) + \": \" + example['transcription']\n",
    "\n",
    "\n",
    "with gr.Blocks() as demo:\n",
    "    with gr.Column():\n",
    "        for _ in range(5):\n",
    "            audio, label = generate_audio()\n",
    "            output = gr.Audio(audio, label=label)\n",
    "\n",
    "demo.launch(debug=True, share=True)"
   ]
  },
  {
   "cell_type": "code",
   "execution_count": 21,
   "id": "b66be8aa-6365-49b3-9d54-ee02890dedd0",
   "metadata": {},
   "outputs": [],
   "source": [
    "#!pip install jinja2==3.0.1"
   ]
  },
  {
   "cell_type": "code",
   "execution_count": 22,
   "id": "f63357c9-f9f2-4b4f-92ea-ecdc196166ab",
   "metadata": {
    "scrolled": true
   },
   "outputs": [
    {
     "name": "stdout",
     "output_type": "stream",
     "text": [
      "8000\n"
     ]
    },
    {
     "data": {
      "text/plain": [
       "<librosa.display.AdaptiveWaveplot at 0x7f832189e830>"
      ]
     },
     "execution_count": 22,
     "metadata": {},
     "output_type": "execute_result"
    },
    {
     "data": {
      "image/png": "[encoded data removed]",
      "text/plain": [
       "<Figure size 1200x480 with 1 Axes>"
      ]
     },
     "metadata": {},
     "output_type": "display_data"
    }
   ],
   "source": [
    "import librosa\n",
    "import matplotlib.pyplot as plt\n",
    "import librosa.display\n",
    "\n",
    "array = example[\"audio\"][\"array\"]\n",
    "sampling_rate = example[\"audio\"][\"sampling_rate\"]\n",
    "\n",
    "print(sampling_rate)\n",
    "\n",
    "plt.figure().set_figwidth(12)\n",
    "#librosa.display.waveshow(array, sr=sampling_rate, color=\"orange\")\n",
    "librosa.display.waveshow(array, sr=sampling_rate,color=\"darkgreen\" )"
   ]
  },
  {
   "cell_type": "markdown",
   "id": "65a37851-06e8-4172-a432-12998d0f9929",
   "metadata": {},
   "source": [
    "## resample the audio examples "
   ]
  },
  {
   "cell_type": "code",
   "execution_count": 88,
   "id": "49cd5e8e-d4f7-4a98-b006-3ac42140d916",
   "metadata": {},
   "outputs": [],
   "source": [
    "from datasets import Audio\n",
    "\n",
    "#set the sampling rate to 16kHz\n",
    "minds = minds.cast_column(\"audio\", Audio(sampling_rate=16_000))"
   ]
  },
  {
   "cell_type": "code",
   "execution_count": 89,
   "id": "4421ec5a-5a9e-4bfe-a451-09f97661f8db",
   "metadata": {},
   "outputs": [
    {
     "data": {
      "text/plain": [
       "{'path': '/storage/hf-datasets-cache/all/datasets/90720017063314-config-parquet-and-info-PolyAI-minds14-0f8c9bcc/downloads/extracted/73ab7f9ade76d3035add3081ab277e5bae46f3dbe75008135fea9e528746677a/ko-KR~ATM_LIMIT/602bef265f67b421554f65e7.wav',\n",
       " 'audio': {'path': '602bef265f67b421554f65e7.wav',\n",
       "  'array': array([ 2.45040166e-04,  1.78244198e-04, -1.80276402e-06, ...,\n",
       "          5.53574704e-04,  4.92824474e-04,  2.39125075e-04]),\n",
       "  'sampling_rate': 16000},\n",
       " 'transcription': 'app Manager 하고 싶은데 최대 금액이 얼마인지요',\n",
       " 'intent_class': 3}"
      ]
     },
     "execution_count": 89,
     "metadata": {},
     "output_type": "execute_result"
    }
   ],
   "source": [
    "minds[0]"
   ]
  },
  {
   "cell_type": "code",
   "execution_count": 102,
   "id": "7cb06f2c-b1e8-4f86-b62c-739a18e112fe",
   "metadata": {},
   "outputs": [],
   "source": [
    "MAX_DURATION_IN_SECONDS = 20.0\n",
    "\n",
    "def is_audio_length_in_range(input_length):\n",
    "    return input_length < MAX_DURATION_IN_SECONDS\n",
    "\n",
    "def calc_duration(minds):\n",
    "\n",
    "    duration_seconds = []\n",
    "    num_samples_too_long = 0\n",
    "    #audio_data, sample_rate = librosa.load(audio_path, sr=None, mono=False)  # Use sr=None to preserve the original sample rate and mono=False to preserve stereo channels\n",
    "    for audio_data in minds[\"audio\"]:\n",
    "        # Calculate the number of samples\n",
    "        num_samples = len(audio_data[\"array\"])   \n",
    "        num_channel = 1\n",
    "        sample_rate = audio_data[\"sampling_rate\"]\n",
    "        duration = num_samples / (sample_rate *  num_channel)\n",
    "        #print(num_samples, num_channel, sample_rate, f\"Duration of the audio file: {duration:.2f} seconds\")\n",
    "\n",
    "        if(duration > MAX_DURATION_IN_SECONDS): \n",
    "            num_samples_too_long += 1\n",
    "            print(f\" {num_samples_too_long}th sample: {duration:.2f} seconds\")\n",
    "        \n",
    "        # Calculate the duration in minutes\n",
    "        duration_seconds.append(duration)\n",
    "    print(f\"No. of samples_after_filtered: {len(minds) - num_samples_too_long }\")\n",
    "    \n",
    "    return duration_seconds\n"
   ]
  },
  {
   "cell_type": "code",
   "execution_count": 103,
   "id": "12d18ccd-0a7a-4047-a4af-5ed3e0269453",
   "metadata": {},
   "outputs": [
    {
     "name": "stdout",
     "output_type": "stream",
     "text": [
      "No. of samples_after_filtered: 563\n"
     ]
    },
    {
     "data": {
      "application/vnd.jupyter.widget-view+json": {
       "model_id": "75e2b0dfcdad41fc9bb2c4917e123035",
       "version_major": 2,
       "version_minor": 0
      },
      "text/plain": [
       "Flattening the indices:   0%|          | 0/563 [00:00<?, ? examples/s]"
      ]
     },
     "metadata": {},
     "output_type": "display_data"
    },
    {
     "data": {
      "application/vnd.jupyter.widget-view+json": {
       "model_id": "cc378ee729c4495db3749573ee1a3092",
       "version_major": 2,
       "version_minor": 0
      },
      "text/plain": [
       "Filter:   0%|          | 0/563 [00:00<?, ? examples/s]"
      ]
     },
     "metadata": {},
     "output_type": "display_data"
    },
    {
     "data": {
      "text/plain": [
       "Dataset({\n",
       "    features: ['path', 'audio', 'transcription', 'english_transcription', 'intent_class', 'lang_id'],\n",
       "    num_rows: 563\n",
       "})"
      ]
     },
     "execution_count": 103,
     "metadata": {},
     "output_type": "execute_result"
    }
   ],
   "source": [
    "# use librosa to get example's duration from the audio file\n",
    "#new_column = [librosa.get_duration(path=x) for x in minds[\"path\"]]\n",
    "#new_column = [librosa.get_duration(path=x) for x in minds[\"path\"]]\n",
    "new_column = calc_duration(minds)\n",
    "\n",
    "minds = minds.add_column(\"duration\", new_column)\n",
    "\n",
    "# use 🤗 Datasets' `filter` method to apply the filtering function\n",
    "minds = minds.filter(is_audio_length_in_range, input_columns=[\"duration\"])\n",
    "\n",
    "# remove the temporary helper column\n",
    "minds = minds.remove_columns([\"duration\"])\n",
    "minds"
   ]
  },
  {
   "cell_type": "code",
   "execution_count": 104,
   "id": "ddc8ce52-ac6e-452a-9aed-396e1ec136eb",
   "metadata": {},
   "outputs": [
    {
     "name": "stdout",
     "output_type": "stream",
     "text": [
      "No. of samples_after_filtered: 563\n"
     ]
    }
   ],
   "source": [
    "new_column = calc_duration(minds)"
   ]
  },
  {
   "cell_type": "code",
   "execution_count": null,
   "id": "719d04e2-4027-4935-ac2a-00049964bfbf",
   "metadata": {},
   "outputs": [],
   "source": []
  }
 ],
 "metadata": {
  "kernelspec": {
   "display_name": "nlp2",
   "language": "python",
   "name": "nlp2"
  },
  "language_info": {
   "codemirror_mode": {
    "name": "ipython",
    "version": 3
   },
   "file_extension": ".py",
   "mimetype": "text/x-python",
   "name": "python",
   "nbconvert_exporter": "python",
   "pygments_lexer": "ipython3",
   "version": "3.10.12"
  }
 },
 "nbformat": 4,
 "nbformat_minor": 5
}
